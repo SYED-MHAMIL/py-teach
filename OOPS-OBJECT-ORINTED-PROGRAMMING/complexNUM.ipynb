{
 "cells": [
  {
   "cell_type": "markdown",
   "id": "1f11f3bf",
   "metadata": {},
   "source": [
    "## complex number\n",
    "##### class for complex number  "
   ]
  },
  {
   "cell_type": "code",
   "execution_count": 1,
   "id": "5b011654",
   "metadata": {},
   "outputs": [
    {
     "name": "stdout",
     "output_type": "stream",
     "text": [
      "<class 'complex'> <class 'complex'>\n"
     ]
    }
   ],
   "source": [
    "c1 = 3+4j\n",
    "c2 = 4+5j\n",
    "\n",
    "print(type(c1) , type(c2))"
   ]
  },
  {
   "cell_type": "code",
   "execution_count": 2,
   "id": "c03f2032",
   "metadata": {},
   "outputs": [
    {
     "data": {
      "text/plain": [
       "((7+9j), (-8+31j), (-1-1j), (0.7804878048780489+0.02439024390243905j))"
      ]
     },
     "execution_count": 2,
     "metadata": {},
     "output_type": "execute_result"
    }
   ],
   "source": [
    "c1+c2,  c1 *c2 , c1-c2 ,c1/c2"
   ]
  },
  {
   "cell_type": "code",
   "execution_count": 95,
   "id": "f0ed7c30",
   "metadata": {},
   "outputs": [
    {
     "name": "stdout",
     "output_type": "stream",
     "text": [
      "-4j\n"
     ]
    }
   ],
   "source": [
    "c1 =complex(0,-4) \n",
    "c1.conjugate()\n",
    "print(c1)"
   ]
  },
  {
   "cell_type": "markdown",
   "id": "1419e633",
   "metadata": {},
   "source": [
    "#####   project : making the class for complex number  "
   ]
  },
  {
   "cell_type": "code",
   "execution_count": null,
   "id": "c98dba14",
   "metadata": {},
   "outputs": [
    {
     "name": "stdout",
     "output_type": "stream",
     "text": [
      "<class '__main__.ComplexNumber'>\n"
     ]
    }
   ],
   "source": [
    "class ComplexNumber:\n",
    "    def __init__(self,real=0.0,imag =0.0 ):\n",
    "        self.real = real \n",
    "        self.imag  =imag\n",
    "\n",
    "    def conjugate(self):\n",
    "        if self.real <= 0:\n",
    "            return f'{self.imag}j'\n",
    "        elif not self.real and not  self.imag:\n",
    "            \n",
    "           return f'-{0}j'        \n",
    "        else:\n",
    "            return f\"({self.real},{-self.imag }j)\"  \n",
    "\n",
    "    def __str__(self):\n",
    "        return f\"({self.real},{self.imag}j)\"     \n",
    "\n",
    "c1=ComplexNumber(1,-4)\n",
    "c1.conjugate()\n",
    "print(c1)\n",
    "\n"
   ]
  },
  {
   "cell_type": "code",
   "execution_count": null,
   "id": "bbbb90f1",
   "metadata": {},
   "outputs": [],
   "source": []
  },
  {
   "cell_type": "code",
   "execution_count": null,
   "id": "96387480",
   "metadata": {},
   "outputs": [],
   "source": []
  }
 ],
 "metadata": {
  "kernelspec": {
   "display_name": "Python 3",
   "language": "python",
   "name": "python3"
  },
  "language_info": {
   "codemirror_mode": {
    "name": "ipython",
    "version": 3
   },
   "file_extension": ".py",
   "mimetype": "text/x-python",
   "name": "python",
   "nbconvert_exporter": "python",
   "pygments_lexer": "ipython3",
   "version": "3.13.4"
  }
 },
 "nbformat": 4,
 "nbformat_minor": 5
}
