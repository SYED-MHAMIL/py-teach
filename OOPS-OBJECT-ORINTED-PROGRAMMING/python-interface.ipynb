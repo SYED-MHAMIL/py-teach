{
 "cells": [
  {
   "cell_type": "markdown",
   "id": "6c8f282d",
   "metadata": {},
   "source": [
    "# Python-interface module\n",
    "#### in interface just you right abstract method normally"
   ]
  },
  {
   "cell_type": "code",
   "execution_count": null,
   "id": "248b07e0",
   "metadata": {},
   "outputs": [],
   "source": [
    "from abc import ABC, abstractmethod\n",
    "class Animal(ABC):\n",
    "    # do not exits but just abstract method even  in \n",
    "    # atraction  you add method and some line of code you say if have you use this you have impletement those  function\n",
    "    @abstractmethod\n",
    "    def move(self):\n",
    "        pass\n",
    "    #  this is called interface in which you use multiple abstract method\n",
    "    "
   ]
  },
  {
   "cell_type": "code",
   "execution_count": null,
   "id": "b5050a61",
   "metadata": {},
   "outputs": [],
   "source": []
  },
  {
   "cell_type": "markdown",
   "id": "21c026ad",
   "metadata": {},
   "source": [
    "### you can also wwrite from zope library"
   ]
  },
  {
   "cell_type": "code",
   "execution_count": 22,
   "id": "f5e5d4d5",
   "metadata": {},
   "outputs": [
    {
     "name": "stdout",
     "output_type": "stream",
     "text": [
      "<__main__.Dog object at 0x0000018CE5A72120>\n"
     ]
    }
   ],
   "source": [
    "import zope.interface\n",
    "\n",
    "class Myinterface(zope.interface.Interface):\n",
    "    x = zope.interface.Attribute(\"mohamil\")\n",
    "    def method1(self):\n",
    "        pass\n",
    "    def method2(self):\n",
    "        pass\n",
    "\n",
    "# print(type(Myinterface))\n",
    "# print(Myinterface.__module__)\n",
    "# print(Myinterface.__name__)\n",
    "\n",
    "# # get attribute\n",
    "# x = Myinterface['x']\n",
    "# print(x.getName())\n",
    "# print(type(x))\n",
    "\n",
    "from zope.interface import implementer\n",
    "@implementer(Myinterface)\n",
    "class Dog:\n",
    "    def sound(self):\n",
    "        print(\"bhoossss !\")\n",
    "ob1 = Dog()\n",
    "print(ob1)\n",
    "# print(ob1['x'])"
   ]
  },
  {
   "cell_type": "code",
   "execution_count": 1,
   "id": "6f588281",
   "metadata": {},
   "outputs": [
    {
     "name": "stdout",
     "output_type": "stream",
     "text": [
      "<__main__.Dog object at 0x000001480D8E97F0>\n"
     ]
    }
   ],
   "source": [
    "import zope.interface\n",
    "\n",
    "class Myinterface(zope.interface.Interface):\n",
    "    x = zope.interface.Attribute(\"mohamil\")\n",
    "    def method1(self):\n",
    "        pass\n",
    "    def method2(self):\n",
    "        pass\n",
    "\n",
    "# print(type(Myinterface))\n",
    "# print(Myinterface.__module__)\n",
    "# print(Myinterface.__name__)\n",
    "\n",
    "# # get attribute\n",
    "# x = Myinterface['x']\n",
    "# print(x.getName())\n",
    "# print(type(x))\n",
    "\n",
    "from zope.interface import implementer\n",
    "@implementer(Myinterface)\n",
    "class Dog:\n",
    "    def sound(self):\n",
    "        print(\"bhoossss !\")\n",
    "ob1 = Dog()\n",
    "print(ob1)\n",
    "# print(ob1['x'])"
   ]
  },
  {
   "cell_type": "code",
   "execution_count": null,
   "id": "9fb22ed8",
   "metadata": {},
   "outputs": [],
   "source": []
  }
 ],
 "metadata": {
  "kernelspec": {
   "display_name": "Python 3",
   "language": "python",
   "name": "python3"
  },
  "language_info": {
   "codemirror_mode": {
    "name": "ipython",
    "version": 3
   },
   "file_extension": ".py",
   "mimetype": "text/x-python",
   "name": "python",
   "nbconvert_exporter": "python",
   "pygments_lexer": "ipython3",
   "version": "3.13.4"
  }
 },
 "nbformat": 4,
 "nbformat_minor": 5
}
