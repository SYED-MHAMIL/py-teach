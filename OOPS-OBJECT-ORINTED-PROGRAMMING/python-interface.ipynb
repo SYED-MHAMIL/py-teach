{
 "cells": [
  {
   "cell_type": "markdown",
   "id": "6c8f282d",
   "metadata": {},
   "source": [
    "# Python-interface module\n",
    "#### in interface just you right abstract method normally"
   ]
  },
  {
   "cell_type": "code",
   "execution_count": null,
   "id": "248b07e0",
   "metadata": {},
   "outputs": [],
   "source": [
    "from abc import ABC, abstractmethod\n",
    "class Animal(ABC):\n",
    "    # do not exits but just abstract method even  in \n",
    "    # atraction  you add method and some line of code you say if have you use this you have impletement those  function\n",
    "    @abstractmethod\n",
    "    def move(self):\n",
    "        pass\n",
    "    #  this is called interface in which you use multiple abstract method\n",
    "    "
   ]
  },
  {
   "cell_type": "code",
   "execution_count": null,
   "id": "b5050a61",
   "metadata": {},
   "outputs": [],
   "source": []
  },
  {
   "cell_type": "markdown",
   "id": "21c026ad",
   "metadata": {},
   "source": [
    "### you can also wwrite from zope library"
   ]
  },
  {
   "cell_type": "code",
   "execution_count": 22,
   "id": "f5e5d4d5",
   "metadata": {},
   "outputs": [
    {
     "name": "stdout",
     "output_type": "stream",
     "text": [
      "<__main__.Dog object at 0x0000018CE5A72120>\n"
     ]
    }
   ],
   "source": [
    "import zope.interface\n",
    "\n",
    "class Myinterface(zope.interface.Interface):\n",
    "    x = zope.interface.Attribute(\"mohamil\")\n",
    "    def method1(self):\n",
    "        pass\n",
    "    def method2(self):\n",
    "        pass\n",
    "\n",
    "# print(type(Myinterface))\n",
    "# print(Myinterface.__module__)\n",
    "# print(Myinterface.__name__)\n",
    "\n",
    "# # get attribute\n",
    "# x = Myinterface['x']\n",
    "# print(x.getName())\n",
    "# print(type(x))\n",
    "\n",
    "from zope.interface import implementer\n",
    "@implementer(Myinterface)\n",
    "class Dog:\n",
    "    def sound(self):\n",
    "        print(\"bhoossss !\")\n",
    "ob1 = Dog()\n",
    "print(ob1)\n",
    "# print(ob1['x'])"
   ]
  },
  {
   "cell_type": "code",
   "execution_count": 1,
   "id": "6f588281",
   "metadata": {},
   "outputs": [
    {
     "name": "stdout",
     "output_type": "stream",
     "text": [
      "<__main__.Dog object at 0x000001480D8E97F0>\n"
     ]
    }
   ],
   "source": [
    "import zope.interface\n",
    "\n",
    "class Myinterface(zope.interface.Interface):\n",
    "    x = zope.interface.Attribute(\"mohamil\")\n",
    "    def method1(self):\n",
    "        pass\n",
    "    def method2(self):\n",
    "        pass\n",
    "\n",
    "# print(type(Myinterface))\n",
    "# print(Myinterface.__module__)\n",
    "# print(Myinterface.__name__)\n",
    "\n",
    "# # get attribute\n",
    "# x = Myinterface['x']\n",
    "# print(x.getName())\n",
    "# print(type(x))\n",
    "\n",
    "from zope.interface import implementer\n",
    "@implementer(Myinterface)\n",
    "class Dog:\n",
    "    def sound(self):\n",
    "        print(\"bhoossss !\")\n",
    "ob1 = Dog()\n",
    "print(ob1)\n",
    "# print(ob1['x'])"
   ]
  },
  {
   "cell_type": "markdown",
   "id": "0ad00a2a",
   "metadata": {},
   "source": [
    "#  the  '____dict____' method"
   ]
  },
  {
   "cell_type": "code",
   "execution_count": 1,
   "id": "69ccfb12",
   "metadata": {},
   "outputs": [],
   "source": [
    "class Dog:\n",
    "    # Class attribute (shared by all instances)\n",
    "    species = \"Canis familiaris\"\n",
    "\n",
    "    # Constructor (instance attributes)\n",
    "    def __init__(self, name, age):\n",
    "        self.name = name  # Instance attribute\n",
    "        self.age = age    # Instance attribute\n",
    "\n",
    "    # Method to display dog details\n",
    "    def display(self):\n",
    "        print(f\"{self.name} is {self.age} years old and is a {self.species}.\")\n",
    "\n",
    "# Create instances of the Dog class\n",
    "dog1 = Dog(\"Buddy\", 5)\n",
    "dog2 = Dog(\"Max\", 3)\n",
    "\n"
   ]
  },
  {
   "cell_type": "code",
   "execution_count": 6,
   "id": "0f1a41e7",
   "metadata": {},
   "outputs": [
    {
     "name": "stdout",
     "output_type": "stream",
     "text": [
      "{'name': 'Buddy', 'age': 5}\n",
      "**********\n",
      "{'__module__': '__main__', '__firstlineno__': 1, 'species': 'Canis familiaris', '__init__': <function Dog.__init__ at 0x000001C1A6C40900>, 'display': <function Dog.display at 0x000001C1A6C41300>, '__static_attributes__': ('age', 'name'), '__dict__': <attribute '__dict__' of 'Dog' objects>, '__weakref__': <attribute '__weakref__' of 'Dog' objects>, '__doc__': None}\n"
     ]
    }
   ],
   "source": [
    "print(dog1.__dict__)\n",
    "print(\"**********\")\n",
    "print(Dog.__dict__)"
   ]
  },
  {
   "cell_type": "code",
   "execution_count": 11,
   "id": "a155e7c8",
   "metadata": {},
   "outputs": [
    {
     "name": "stdout",
     "output_type": "stream",
     "text": [
      "dog1: mhamil don\n",
      "dog-2: mhamil don\n",
      "Canis familiaris\n",
      "dog1: mhamil don\n",
      "dog-2:mhamil don\n"
     ]
    }
   ],
   "source": [
    "class Dog:\n",
    "    # Class attribute (shared by all instances)\n",
    "    species = \"Canis familiaris\"\n",
    "\n",
    "    # Constructor (instance attributes)\n",
    "    def __init__(self, name, age):\n",
    "        self.name = name  # Instance attribute\n",
    "        self.age = age    # Instance attribute\n",
    "\n",
    "    # Method to display dog details\n",
    "    def display(self):\n",
    "        print(f\"{self.name} is {self.age} years old and is a {self.species}.\")\n",
    "\n",
    "# Create instances of the Dog class\n",
    "dog1 = Dog(\"Buddy\", 5)\n",
    "dog2 = Dog(\"Max\", 3)\n",
    "dog2.species = \"mhamil don\"\n",
    "print(\"dog1: \"+dog2.species)\n",
    "print(\"dog-2: \"+dog2.species)\n",
    "print(Dog.species)\n",
    "Dog.species =\"zain \"\n",
    "print(\"dog1: \"+dog2.species)\n",
    "print(\"dog-2:\"+dog2.species)\n",
    "\n",
    "\n",
    "\n"
   ]
  },
  {
   "cell_type": "code",
   "execution_count": null,
   "id": "f826b726",
   "metadata": {},
   "outputs": [
    {
     "name": "stdout",
     "output_type": "stream",
     "text": [
      "metric\n",
      "updated critera\n",
      "inter\n"
     ]
    }
   ],
   "source": [
    "class Person1:\n",
    "    eligible = \"metric\" \n",
    "    def __init__(self,name,age):\n",
    "        self.name =name\n",
    "        self.age = age\n",
    "    # @classmethod\n",
    "    @staticmethod\n",
    "    def update_criterea(education = \"Metric\"):\n",
    "        Person1.eligible =education\n",
    "        print(\"updated critera\")\n",
    "    @staticmethod   \n",
    "    def get_age(age):\n",
    "        if age >= 18:\n",
    "            print(\"you are  eligible\")\n",
    "\n",
    "print(Person1.eligible)\n",
    "\n",
    "p1= Person1(\"muhamil\",18)\n",
    "p1.update_criterea(\"inter\")\n",
    "print(Person1.eligible)\n",
    "\n",
    "\n"
   ]
  },
  {
   "cell_type": "markdown",
   "id": "11864631",
   "metadata": {},
   "source": [
    "#### the above code is correct but it will ocurr error  in sub class"
   ]
  },
  {
   "cell_type": "code",
   "execution_count": 27,
   "id": "cacf8940",
   "metadata": {},
   "outputs": [
    {
     "name": "stdout",
     "output_type": "stream",
     "text": [
      "metric\n",
      "updated critera\n",
      "inter\n",
      "metric\n",
      "False\n"
     ]
    }
   ],
   "source": [
    "class Main_PIAIC_STUDENT:\n",
    "    eligible = \"metric\" \n",
    "    def __init__(self,name,age):\n",
    "        self.name =name\n",
    "        self.age = age\n",
    "    @classmethod\n",
    "    def update_criterea(cls,education = \"Metric\"):\n",
    "        cls.eligible =education\n",
    "        print(\"updated critera\")\n",
    "    @staticmethod   \n",
    "    def get_age(age):\n",
    "        if age >= 18:\n",
    "            print(\"you are  eligible\")\n",
    "\n",
    "class KID_Student(Main_PIAIC_STUDENT):\n",
    "    pass\n",
    "print(Main_PIAIC_STUDENT.eligible)\n",
    "KID_Student.update_criterea(\"inter\")\n",
    "print(KID_Student.eligible)\n",
    "print(Main_PIAIC_STUDENT.eligible) # uncahnge mian  class\n",
    "print(id(KID_Student) == id(Main_PIAIC_STUDENT))\n",
    "\n",
    "\n"
   ]
  },
  {
   "cell_type": "markdown",
   "id": "b61d50b8",
   "metadata": {},
   "source": [
    "# operator overlaping"
   ]
  },
  {
   "cell_type": "code",
   "execution_count": null,
   "id": "1f869e53",
   "metadata": {},
   "outputs": [],
   "source": [
    "class Point:\n",
    "    def __init__(self,x,y):\n",
    "        self.x =x\n",
    "        self.y=y\n",
    "    def __add__(self):\n",
    "        print(self.x+self.y)\n",
    "\n",
    "print(Point(1,3))\n"
   ]
  },
  {
   "cell_type": "code",
   "execution_count": null,
   "id": "4d940605",
   "metadata": {},
   "outputs": [],
   "source": []
  }
 ],
 "metadata": {
  "kernelspec": {
   "display_name": "Python 3",
   "language": "python",
   "name": "python3"
  },
  "language_info": {
   "codemirror_mode": {
    "name": "ipython",
    "version": 3
   },
   "file_extension": ".py",
   "mimetype": "text/x-python",
   "name": "python",
   "nbconvert_exporter": "python",
   "pygments_lexer": "ipython3",
   "version": "3.13.4"
  }
 },
 "nbformat": 4,
 "nbformat_minor": 5
}
