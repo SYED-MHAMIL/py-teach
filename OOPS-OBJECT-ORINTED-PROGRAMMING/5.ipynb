{
 "cells": [
  {
   "cell_type": "markdown",
   "id": "89b50c77",
   "metadata": {},
   "source": [
    "## class method"
   ]
  },
  {
   "cell_type": "code",
   "execution_count": 52,
   "id": "a26ca80c",
   "metadata": {},
   "outputs": [],
   "source": [
    "class Animal:\n",
    "    species ='unknown'\n",
    "    @classmethod\n",
    "    def make(cls , habbit):\n",
    "        return cls.species + habbit\n",
    "    "
   ]
  },
  {
   "cell_type": "code",
   "execution_count": 53,
   "id": "59ab8023",
   "metadata": {},
   "outputs": [
    {
     "name": "stdout",
     "output_type": "stream",
     "text": [
      "<__main__.Animal object at 0x00000205C8772F90>\n"
     ]
    }
   ],
   "source": [
    "animal  = Animal()\n",
    "print(animal)"
   ]
  },
  {
   "cell_type": "code",
   "execution_count": 54,
   "id": "6728038d",
   "metadata": {},
   "outputs": [
    {
     "data": {
      "text/plain": [
       "'unknownAction'"
      ]
     },
     "execution_count": 54,
     "metadata": {},
     "output_type": "execute_result"
    }
   ],
   "source": [
    "animal.make(\"Action\")"
   ]
  },
  {
   "cell_type": "code",
   "execution_count": 55,
   "id": "ab42e868",
   "metadata": {},
   "outputs": [
    {
     "name": "stdout",
     "output_type": "stream",
     "text": [
      "Dogbarking\n"
     ]
    }
   ],
   "source": [
    "class Dog(Animal):\n",
    "        species = \"Dog\"\n",
    "dog1 = Dog()\n",
    "print(dog1.make(\"barking\"))"
   ]
  },
  {
   "cell_type": "markdown",
   "id": "5de536ce",
   "metadata": {},
   "source": [
    "### class variable"
   ]
  },
  {
   "cell_type": "code",
   "execution_count": null,
   "id": "57197e0c",
   "metadata": {},
   "outputs": [
    {
     "name": "stdout",
     "output_type": "stream",
     "text": [
      "laour\n",
      "laour\n"
     ]
    }
   ],
   "source": [
    "class City:\n",
    "    name =  \"unkwoun city\"\n",
    "    def __init__(self,city):\n",
    "        City.name  = city\n",
    "    @classmethod\n",
    "    def getInfo(cls):\n",
    "        return cls.name\n",
    "        \n",
    "    \n",
    "city1 =  City(\"karachi\")\n",
    "city2=  City(\"laour\")\n",
    "print(city1.name)\n",
    "print(city2.name)"
   ]
  },
  {
   "cell_type": "markdown",
   "id": "afa19c83",
   "metadata": {},
   "source": [
    "## static method "
   ]
  },
  {
   "cell_type": "code",
   "execution_count": 63,
   "id": "736cfe07",
   "metadata": {},
   "outputs": [],
   "source": [
    "class Statical:\n",
    "    @staticmethod\n",
    "    def utils():\n",
    "        print(\" i am a utility func\")"
   ]
  },
  {
   "cell_type": "code",
   "execution_count": 33,
   "id": "8a4ed5f3",
   "metadata": {},
   "outputs": [
    {
     "name": "stdout",
     "output_type": "stream",
     "text": [
      " i am a utility func\n"
     ]
    }
   ],
   "source": [
    "st= Statical()\n",
    "st.utils()"
   ]
  },
  {
   "cell_type": "markdown",
   "id": "8e1f71c2",
   "metadata": {},
   "source": [
    "# *encapsulation*"
   ]
  },
  {
   "cell_type": "code",
   "execution_count": 8,
   "id": "71e688ba",
   "metadata": {},
   "outputs": [
    {
     "name": "stdout",
     "output_type": "stream",
     "text": [
      "this is string method : speed:\n"
     ]
    }
   ],
   "source": [
    "class Car:\n",
    "   def __init__(self,speed):\n",
    "       self.speed =speed\n",
    "\n",
    "   def accelerate(self):\n",
    "       self.speed+=10\n",
    "   \n",
    "   def getSpeed(self):\n",
    "       return self.speed\n",
    "   \n",
    "   def __str__(self):\n",
    "       return \"this is string method : speed:\"\n",
    "   \n",
    "   def __eq__(self, value):\n",
    "       pass\n",
    "\n",
    "car1 = Car(10)\n",
    "print(car1)             "
   ]
  },
  {
   "cell_type": "code",
   "execution_count": 9,
   "id": "40f0845a",
   "metadata": {},
   "outputs": [
    {
     "name": "stdout",
     "output_type": "stream",
     "text": [
      "0\n"
     ]
    }
   ],
   "source": [
    "carl = Car(0)\n",
    "print(carl.speed)"
   ]
  },
  {
   "cell_type": "code",
   "execution_count": 10,
   "id": "c7ea7333",
   "metadata": {},
   "outputs": [
    {
     "name": "stdout",
     "output_type": "stream",
     "text": [
      "100\n"
     ]
    }
   ],
   "source": [
    "for i in range(10):\n",
    "    carl.accelerate()\n",
    "\n",
    "print(carl.speed)"
   ]
  },
  {
   "cell_type": "code",
   "execution_count": 11,
   "id": "cf07ae3c",
   "metadata": {},
   "outputs": [
    {
     "name": "stdout",
     "output_type": "stream",
     "text": [
      "Object: Hello\n"
     ]
    }
   ],
   "source": [
    "# declare our own string class\n",
    "class String:\n",
    "    \n",
    "    # magic method to initiate object\n",
    "    def __init__(self, string):\n",
    "        self.string = string\n",
    "        \n",
    "    # print our string object\n",
    "    # def __repr__(self):\n",
    "    #     return 'Object: {}'.format(self.string)\n",
    "    \n",
    "    def __str__(self):\n",
    "        return 'Object: {}'.format(self.string)\n",
    "    \n",
    "\n",
    "# Driver Code\n",
    "if __name__ == '__main__':\n",
    "    \n",
    "    # object creation\n",
    "    string1 = String('Hello')\n",
    "\n",
    "    # print object location\n",
    "    print(string1)"
   ]
  },
  {
   "cell_type": "markdown",
   "id": "b321b6fb",
   "metadata": {},
   "source": [
    "## repr\n",
    "* debugging  "
   ]
  },
  {
   "cell_type": "code",
   "execution_count": 24,
   "id": "d54ad7cd",
   "metadata": {},
   "outputs": [
    {
     "name": "stdout",
     "output_type": "stream",
     "text": [
      "Hello syed mohamil\n"
     ]
    }
   ],
   "source": [
    "# declare our own string class\n",
    "class String:\n",
    "    \n",
    "    # magic method to initiate object\n",
    "    def __init__(self, string):\n",
    "        self.string = string\n",
    "        \n",
    "     \n",
    "    def __repr__(self):\n",
    "        return  f\"Person(name= '{self.string}'  )\"\n",
    "    \n",
    "    def __add__(self,other):\n",
    "        return self.string + other\n",
    "    \n",
    "\n",
    "# Driver Code\n",
    "if __name__ == '__main__':\n",
    "    \n",
    "    # object creation\n",
    "    string1 = String('Hello')\n",
    "\n",
    "    # print object location\n",
    "    print(string1 + \" syed mohamil\")"
   ]
  },
  {
   "cell_type": "code",
   "execution_count": null,
   "id": "66b727be",
   "metadata": {},
   "outputs": [],
   "source": [
    "class Vector:\n",
    "    def __init__(self, x, y):\n",
    "        self.x = x\n",
    "        self.y = y\n",
    "\n",
    "    # 🔹 For user-friendly print\n",
    "    def __str__(self):\n",
    "        return f\"({self.x}, {self.y})\"\n",
    "\n",
    "    # 🔹 For debugging (developer view)\n",
    "    def __repr__(self):\n",
    "        return f\"Vector(x={self.x}, y={self.y})\"\n",
    "\n",
    "    # 🔹 Length using len()\n",
    "    def __len__(self):\n",
    "        return 2"
   ]
  },
  {
   "cell_type": "code",
   "execution_count": 27,
   "id": "1f52973f",
   "metadata": {},
   "outputs": [
    {
     "name": "stdout",
     "output_type": "stream",
     "text": [
      "2\n"
     ]
    }
   ],
   "source": [
    "v1 =Vector(3,5)\n",
    "print(len(v1)) "
   ]
  },
  {
   "cell_type": "code",
   "execution_count": null,
   "id": "0f414579",
   "metadata": {},
   "outputs": [],
   "source": []
  }
 ],
 "metadata": {
  "kernelspec": {
   "display_name": "Python 3",
   "language": "python",
   "name": "python3"
  },
  "language_info": {
   "codemirror_mode": {
    "name": "ipython",
    "version": 3
   },
   "file_extension": ".py",
   "mimetype": "text/x-python",
   "name": "python",
   "nbconvert_exporter": "python",
   "pygments_lexer": "ipython3",
   "version": "3.13.4"
  }
 },
 "nbformat": 4,
 "nbformat_minor": 5
}
