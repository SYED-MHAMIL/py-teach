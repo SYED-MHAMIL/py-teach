{
 "cells": [
  {
   "cell_type": "markdown",
   "id": "ee3739b7",
   "metadata": {},
   "source": [
    "###                      Abstraction"
   ]
  },
  {
   "cell_type": "code",
   "execution_count": 1,
   "id": "66b9099e",
   "metadata": {},
   "outputs": [
    {
     "name": "stdout",
     "output_type": "stream",
     "text": [
      "Dog's Name: Buddy\n",
      "Labrador Woof!\n",
      "Dog's Name: Charlie\n",
      "Beagle Bark!\n"
     ]
    }
   ],
   "source": [
    "from abc import ABC, abstractmethod\n",
    "\n",
    "class Dog(ABC):  # Abstract Class\n",
    "    def __init__(self, name):\n",
    "        self.name = name\n",
    "\n",
    "    @abstractmethod\n",
    "    def sound(self):  # Abstract Method\n",
    "        pass\n",
    "\n",
    "    def display_name(self):  # Concrete Method\n",
    "        print(f\"Dog's Name: {self.name}\")\n",
    "\n",
    "class Labrador(Dog):  # Partial Abstraction\n",
    "    def sound(self):\n",
    "        print(\"Labrador Woof!\")\n",
    "\n",
    "class Beagle(Dog):  # Partial Abstraction\n",
    "    def sound(self):\n",
    "        print(\"Beagle Bark!\")\n",
    "\n",
    "# Example Usage\n",
    "dogs = [Labrador(\"Buddy\"), Beagle(\"Charlie\")]\n",
    "for dog in dogs:\n",
    "    dog.display_name()  # Calls concrete method\n",
    "    dog.sound()  # Calls implemented abstract method"
   ]
  },
  {
   "cell_type": "code",
   "execution_count": 4,
   "id": "1b201702",
   "metadata": {},
   "outputs": [],
   "source": [
    "#YOUO HAVE TO ACCESS THE BANK APP DATABASE YOU WILL HAVE TO SUCURED THAT"
   ]
  },
  {
   "cell_type": "markdown",
   "id": "a485db89",
   "metadata": {},
   "source": [
    "##### YOUO HAVE TO ACCESS THE BANK APP DATABASE YOU WILL HAVE TO SUCURED THAT"
   ]
  },
  {
   "cell_type": "code",
   "execution_count": null,
   "id": "adb7e2e5",
   "metadata": {},
   "outputs": [
    {
     "ename": "TypeError",
     "evalue": "Can't instantiate abstract class Webapp without an implementation for abstract method 'sucured'",
     "output_type": "error",
     "traceback": [
      "\u001b[31m---------------------------------------------------------------------------\u001b[39m",
      "\u001b[31mTypeError\u001b[39m                                 Traceback (most recent call last)",
      "\u001b[36mCell\u001b[39m\u001b[36m \u001b[39m\u001b[32mIn[9]\u001b[39m\u001b[32m, line 12\u001b[39m\n\u001b[32m      9\u001b[39m       \u001b[38;5;28;01mdef\u001b[39;00m\u001b[38;5;250m \u001b[39m\u001b[34mlogin\u001b[39m(\u001b[38;5;28mself\u001b[39m):\n\u001b[32m     10\u001b[39m            \u001b[38;5;28mprint\u001b[39m(\u001b[33m\"\u001b[39m\u001b[33myou have sucessfully login\u001b[39m\u001b[33m\"\u001b[39m)\n\u001b[32m---> \u001b[39m\u001b[32m12\u001b[39m app = \u001b[43mWebapp\u001b[49m\u001b[43m(\u001b[49m\u001b[43m)\u001b[49m\n\u001b[32m     13\u001b[39m app.login()\n",
      "\u001b[31mTypeError\u001b[39m: Can't instantiate abstract class Webapp without an implementation for abstract method 'sucured'"
     ]
    }
   ],
   "source": [
    "from abc import ABC, abstractmethod\n",
    "class BankDatabase(ABC):\n",
    "    def connected(self):\n",
    "        print(\"connected to database\")\n",
    "    @abstractmethod \n",
    "    def sucured(self):\n",
    "        pass \n",
    "class Webapp(BankDatabase):\n",
    "      def login(self):\n",
    "           print(\"you have sucessfully login\")\n",
    "\n",
    "#  \n",
    "app = Webapp()\n",
    "app.login()\n",
    "           \n",
    "\n",
    "\n",
    "    "
   ]
  },
  {
   "cell_type": "code",
   "execution_count": null,
   "id": "779aab13",
   "metadata": {},
   "outputs": [],
   "source": [
    "class Point:\n",
    "    def __init__(self,x,y):\n",
    "        self.x =x\n",
    "        self.y=y\n",
    "    def __add__(self):\n",
    "        print(self.x+self.y)\n",
    "\n",
    "print(Point(1,3))"
   ]
  },
  {
   "cell_type": "code",
   "execution_count": null,
   "id": "92974019",
   "metadata": {},
   "outputs": [],
   "source": []
  }
 ],
 "metadata": {
  "kernelspec": {
   "display_name": "Python 3",
   "language": "python",
   "name": "python3"
  },
  "language_info": {
   "codemirror_mode": {
    "name": "ipython",
    "version": 3
   },
   "file_extension": ".py",
   "mimetype": "text/x-python",
   "name": "python",
   "nbconvert_exporter": "python",
   "pygments_lexer": "ipython3",
   "version": "3.13.4"
  }
 },
 "nbformat": 4,
 "nbformat_minor": 5
}
