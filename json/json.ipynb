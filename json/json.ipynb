{
 "cells": [
  {
   "cell_type": "markdown",
   "id": "4ee8760f",
   "metadata": {},
   "source": [
    "# json \n",
    "*json.dumps*"
   ]
  },
  {
   "cell_type": "code",
   "execution_count": 1,
   "id": "4ad4596a",
   "metadata": {},
   "outputs": [
    {
     "name": "stdout",
     "output_type": "stream",
     "text": [
      "Equivalent json string of input dictionary: {\"1\": \"Welcome\", \"2\": \"to\", \"3\": \"Geeks\", \"4\": \"for\", \"5\": \"Geeks\"}\n",
      "        \n",
      "<class 'str'>\n"
     ]
    }
   ],
   "source": [
    "import json\n",
    "\n",
    "# Creating a dictionary\n",
    "Dictionary ={1:'Welcome', 2:'to',\n",
    "            3:'Geeks', 4:'for',\n",
    "            5:'Geeks'}\n",
    " \n",
    "# Converts input dictionary into\n",
    "# string and stores it in json_string\n",
    "json_string = json.dumps(Dictionary)\n",
    "print('Equivalent json string of input dictionary:',\n",
    "      json_string)\n",
    "print(\"        \")\n",
    "\n",
    "# Checking type of object\n",
    "# returned by json.dumps\n",
    "print(type(json_string))"
   ]
  },
  {
   "cell_type": "code",
   "execution_count": 2,
   "id": "0beb40ad",
   "metadata": {},
   "outputs": [
    {
     "name": "stdout",
     "output_type": "stream",
     "text": [
      "Equivalent json string of input dictionary: {\"2\": \"to\", \"3\": \"Geeks\", \"4\": \"for\", \"5\": \"Geeks\"}\n",
      "        \n",
      "<class 'str'>\n"
     ]
    }
   ],
   "source": [
    "import json\n",
    "\n",
    "# Creating a dictionary\n",
    "Dictionary ={(1,2,3,4):'Welcome', 2:'to',\n",
    "            3:'Geeks', 4:'for',\n",
    "            5:'Geeks'}\n",
    " \n",
    "# Converts input dictionary into\n",
    "# string and stores it in json_string\n",
    "json_string = json.dumps(Dictionary ,skipkeys=True)\n",
    "print('Equivalent json string of input dictionary:',\n",
    "      json_string)\n",
    "print(\"        \")\n",
    "\n",
    "# Checking type of object\n",
    "# returned by json.dumps\n",
    "print(type(json_string))"
   ]
  },
  {
   "cell_type": "markdown",
   "id": "cea48df2",
   "metadata": {},
   "source": [
    "*Example #3: allow nan=True*"
   ]
  },
  {
   "cell_type": "code",
   "execution_count": 10,
   "id": "e875f581",
   "metadata": {},
   "outputs": [
    {
     "name": "stdout",
     "output_type": "stream",
     "text": [
      "Equivalent json string of dictionary: {\"2\": \"to\", \"3\": \"Geeks\", \"4\": \"for\", \"5\": \"Geeks\", \"6\": NaN}\n"
     ]
    }
   ],
   "source": [
    "import json\n",
    "\n",
    "\n",
    "# We are adding nan values\n",
    "# (out of range float values)\n",
    "# in dictionary\n",
    "Dictionary ={(1, 2, 3):'Welcome', 2:'to',\n",
    "            3:'Geeks', 4:'for',\n",
    "            5:'Geeks', 6:float('nan')}\n",
    "\n",
    "# If we hadn't set allow_nan to \n",
    "# true we would have got \n",
    "# ValueError: Out of range float \n",
    "# values are not JSON compliant\n",
    "\n",
    "json_string = json.dumps(Dictionary,\n",
    "                         skipkeys = True,\n",
    "                         allow_nan = True)\n",
    "\n",
    "print('Equivalent json string of dictionary:', \n",
    "      json_string)"
   ]
  },
  {
   "cell_type": "code",
   "execution_count": 16,
   "id": "6c02fa66",
   "metadata": {},
   "outputs": [
    {
     "name": "stdout",
     "output_type": "stream",
     "text": [
      "Equivalent json string of dictionary: {\n",
      "         \"2\": \"to\",\n",
      "         \"3\": \"Geeks\",\n",
      "         \"4\": \"for\",\n",
      "         \"5\": \"Geeks\",\n",
      "         \"6\": NaN\n",
      "}\n"
     ]
    }
   ],
   "source": [
    "import json\n",
    "\n",
    "\n",
    "Dictionary ={(1, 2, 3):'Welcome', 2:'to',\n",
    "            3:'Geeks', 4:'for',\n",
    "            5:'Geeks', 6:float('nan')}\n",
    "\n",
    "# Indentation can be used \n",
    "# for pretty-printing\n",
    "json_string = json.dumps(Dictionary, \n",
    "                         skipkeys = True, \n",
    "                         allow_nan = True,\n",
    "                         indent = 9)\n",
    "\n",
    "print('Equivalent json string of dictionary:', \n",
    "      json_string)"
   ]
  },
  {
   "cell_type": "markdown",
   "id": "e5b2c879",
   "metadata": {},
   "source": [
    "# Example #5: seprator \n"
   ]
  },
  {
   "cell_type": "code",
   "execution_count": 19,
   "id": "6a6572b9",
   "metadata": {},
   "outputs": [
    {
     "name": "stdout",
     "output_type": "stream",
     "text": [
      "Equivalent json string of dictionary: {\n",
      "      \"2\",\"to\"*\n",
      "      \"3\",\"Geeks\"*\n",
      "      \"4\",\"for\"*\n",
      "      \"5\",\"Geeks\"*\n",
      "      \"6\",NaN\n",
      "}\n"
     ]
    }
   ],
   "source": [
    "import json\n",
    "\n",
    "Dictionary ={(1, 2, 3):'Welcome', 2:'to',\n",
    "            3:'Geeks', 4:'for',\n",
    "            5:'Geeks', 6:float('nan')}\n",
    "\n",
    "# If specified, separators should be\n",
    "# an (item_separator, key_separator)tuple\n",
    "# Items are separated by '.' and key,\n",
    "# values are separated by '='\n",
    "json_string = json.dumps(Dictionary,\n",
    "                         skipkeys = True, \n",
    "                         allow_nan = True,\n",
    "                         indent = 6,\n",
    "                         separators =(\"*\", \",\"))\n",
    "\n",
    "print('Equivalent json string of dictionary:',\n",
    "      json_string)"
   ]
  },
  {
   "cell_type": "markdown",
   "id": "62b51eb9",
   "metadata": {},
   "source": [
    "*EXAMPLE 5*\n",
    "\n",
    "*make a logic with json to extract second lowwest valus in following data ?*"
   ]
  },
  {
   "cell_type": "code",
   "execution_count": 24,
   "id": "a2e9b619",
   "metadata": {},
   "outputs": [
    {
     "name": "stdout",
     "output_type": "stream",
     "text": [
      "[{'marks': {'English': 55, 'Math': 60}, 'name': 'Ali'}, {'marks': {'English': 45, 'Math': 70}, 'name': 'Sara'}, {'marks': {'English': 95, 'Math': 90}, 'name': 'Zara'}, {'marks': {'English': 95, 'Math': 90}, 'name': 'Zara'}]\n"
     ]
    }
   ],
   "source": [
    "data = [\n",
    "    {\"name\": \"Ali\", \"marks\": {\"Math\": 60, \"English\": 55}},\n",
    "    {\"name\": \"Sara\",\"marks\": {\"Math\": 70, \"English\": 45}},\n",
    "    {\"name\": \"Zara\", \"marks\": {\"Math\": 90, \"English\": 95}},\n",
    "    {\"name\": \"Zara\", \"marks\": {\"Math\": 90, \"English\": 95}},\n",
    "]\n",
    "\n",
    "lst =list( json.dumps(d,sort_keys=True) for d in data)\n",
    "unique_data = [json.loads(d) for d in lst]\n",
    "\n",
    "print(unique_data)"
   ]
  },
  {
   "cell_type": "markdown",
   "id": "2a36b1ef",
   "metadata": {},
   "source": []
  },
  {
   "cell_type": "markdown",
   "id": "a835b026",
   "metadata": {},
   "source": []
  },
  {
   "cell_type": "code",
   "execution_count": null,
   "id": "929c289c",
   "metadata": {},
   "outputs": [],
   "source": []
  }
 ],
 "metadata": {
  "kernelspec": {
   "display_name": "Python 3",
   "language": "python",
   "name": "python3"
  },
  "language_info": {
   "codemirror_mode": {
    "name": "ipython",
    "version": 3
   },
   "file_extension": ".py",
   "mimetype": "text/x-python",
   "name": "python",
   "nbconvert_exporter": "python",
   "pygments_lexer": "ipython3",
   "version": "3.13.4"
  }
 },
 "nbformat": 4,
 "nbformat_minor": 5
}
