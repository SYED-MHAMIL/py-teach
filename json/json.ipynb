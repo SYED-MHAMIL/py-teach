{
 "cells": [
  {
   "cell_type": "markdown",
   "id": "4ee8760f",
   "metadata": {},
   "source": [
    "# json \n",
    "*json.dumps*"
   ]
  },
  {
   "cell_type": "code",
   "execution_count": 1,
   "id": "4ad4596a",
   "metadata": {},
   "outputs": [
    {
     "name": "stdout",
     "output_type": "stream",
     "text": [
      "Equivalent json string of input dictionary: {\"1\": \"Welcome\", \"2\": \"to\", \"3\": \"Geeks\", \"4\": \"for\", \"5\": \"Geeks\"}\n",
      "        \n",
      "<class 'str'>\n"
     ]
    }
   ],
   "source": [
    "import json\n",
    "\n",
    "# Creating a dictionary\n",
    "Dictionary ={1:'Welcome', 2:'to',\n",
    "            3:'Geeks', 4:'for',\n",
    "            5:'Geeks'}\n",
    " \n",
    "# Converts input dictionary into\n",
    "# string and stores it in json_string\n",
    "json_string = json.dumps(Dictionary)\n",
    "print('Equivalent json string of input dictionary:',\n",
    "      json_string)\n",
    "print(\"        \")\n",
    "\n",
    "# Checking type of object\n",
    "# returned by json.dumps\n",
    "print(type(json_string))"
   ]
  },
  {
   "cell_type": "code",
   "execution_count": null,
   "id": "0beb40ad",
   "metadata": {},
   "outputs": [],
   "source": [
    "import json\n",
    "\n",
    "# Creating a dictionary\n",
    "Dictionary ={(1,2,3,4):'Welcome', 2:'to',\n",
    "            3:'Geeks', 4:'for',\n",
    "            5:'Geeks'}\n",
    " \n",
    "# Converts input dictionary into\n",
    "# string and stores it in json_string\n",
    "json_string = json.dumps(Dictionary ,skipkeys=True)\n",
    "print('Equivalent json string of input dictionary:',\n",
    "      json_string)\n",
    "print(\"        \")\n",
    "\n",
    "# Checking type of object\n",
    "# returned by json.dumps\n",
    "print(type(json_string))"
   ]
  }
 ],
 "metadata": {
  "kernelspec": {
   "display_name": "Python 3",
   "language": "python",
   "name": "python3"
  },
  "language_info": {
   "codemirror_mode": {
    "name": "ipython",
    "version": 3
   },
   "file_extension": ".py",
   "mimetype": "text/x-python",
   "name": "python",
   "nbconvert_exporter": "python",
   "pygments_lexer": "ipython3",
   "version": "3.13.4"
  }
 },
 "nbformat": 4,
 "nbformat_minor": 5
}
